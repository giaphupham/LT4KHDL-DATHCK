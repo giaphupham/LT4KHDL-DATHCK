{
 "cells": [
  {
   "cell_type": "markdown",
   "metadata": {},
   "source": [
    "# ĐỒ ÁN THỰC HÀNH CUỐI KÌ"
   ]
  },
  {
   "cell_type": "markdown",
   "metadata": {},
   "source": [
    "## MÔN LẬP TRÌNH CHO KHOA HỌC DỮ LIỆU"
   ]
  },
  {
   "cell_type": "markdown",
   "metadata": {},
   "source": [
    "**Thành viên:**\n",
    "- Phạm Trần Gia Phú\n",
    "- Nguyễn Anh Tuấn\n",
    "- Phạm Khánh Hoàng Việt\n",
    "- Đinh Thị Hoàng Linh"
   ]
  },
  {
   "cell_type": "markdown",
   "metadata": {},
   "source": [
    "#### Mô tả dataset\n",
    "Bạn có bao giờ thắc mắc những thành phần nào có trong mỹ phẩm yêu thích của mình không? \n",
    "\n",
    "Bạn có biết rằng có hơn 12.000 hóa chất được sử dụng trong mỹ phẩm và các sản phẩm chăm sóc cá nhân? \n",
    "\n",
    "Bộ dữ liệu này chứa thông tin về các hóa chất được sử dụng trong mỹ phẩm, bao gồm tên của hóa chất, công ty sản xuất hóa chất đó, danh mục chính mà hóa chất được sử dụng và ngày báo cáo lần đầu tiên.\n",
    "\n",
    "Vậy, những gì thực sự trong túi trang điểm của bạn? \n",
    "Hãy cùng nhau xem qua một số thành phần của các loại mỹ phẩm phổ biến nhất"
   ]
  },
  {
   "cell_type": "markdown",
   "metadata": {},
   "source": [
    "#### Cài đặt thư viện"
   ]
  },
  {
   "cell_type": "code",
   "execution_count": 1,
   "metadata": {},
   "outputs": [],
   "source": [
    "import pandas as pd\n",
    "import numpy as np\n",
    "import matplotlib.pyplot as plt"
   ]
  },
  {
   "cell_type": "markdown",
   "metadata": {},
   "source": [
    "### Phần 1. Khám phá dữ liệu (kết hợp tiền xử lý)"
   ]
  },
  {
   "cell_type": "markdown",
   "metadata": {},
   "source": [
    "Đọc dữ liệu từ dataset vào dataframe"
   ]
  },
  {
   "cell_type": "code",
   "execution_count": 2,
   "metadata": {},
   "outputs": [
    {
     "data": {
      "text/html": [
       "<div>\n",
       "<style scoped>\n",
       "    .dataframe tbody tr th:only-of-type {\n",
       "        vertical-align: middle;\n",
       "    }\n",
       "\n",
       "    .dataframe tbody tr th {\n",
       "        vertical-align: top;\n",
       "    }\n",
       "\n",
       "    .dataframe thead th {\n",
       "        text-align: right;\n",
       "    }\n",
       "</style>\n",
       "<table border=\"1\" class=\"dataframe\">\n",
       "  <thead>\n",
       "    <tr style=\"text-align: right;\">\n",
       "      <th></th>\n",
       "      <th>index</th>\n",
       "      <th>CDPHId</th>\n",
       "      <th>ProductName</th>\n",
       "      <th>CSFId</th>\n",
       "      <th>CSF</th>\n",
       "      <th>CompanyId</th>\n",
       "      <th>CompanyName</th>\n",
       "      <th>BrandName</th>\n",
       "      <th>PrimaryCategoryId</th>\n",
       "      <th>PrimaryCategory</th>\n",
       "      <th>...</th>\n",
       "      <th>CasNumber</th>\n",
       "      <th>ChemicalId</th>\n",
       "      <th>ChemicalName</th>\n",
       "      <th>InitialDateReported</th>\n",
       "      <th>MostRecentDateReported</th>\n",
       "      <th>DiscontinuedDate</th>\n",
       "      <th>ChemicalCreatedAt</th>\n",
       "      <th>ChemicalUpdatedAt</th>\n",
       "      <th>ChemicalDateRemoved</th>\n",
       "      <th>ChemicalCount</th>\n",
       "    </tr>\n",
       "  </thead>\n",
       "  <tbody>\n",
       "    <tr>\n",
       "      <th>0</th>\n",
       "      <td>0</td>\n",
       "      <td>2</td>\n",
       "      <td>ULTRA COLOR RICH EXTRA PLUMP LIPSTICK-ALL SHADES</td>\n",
       "      <td>NaN</td>\n",
       "      <td>NaN</td>\n",
       "      <td>4</td>\n",
       "      <td>New Avon LLC</td>\n",
       "      <td>AVON</td>\n",
       "      <td>44</td>\n",
       "      <td>Makeup Products (non-permanent)</td>\n",
       "      <td>...</td>\n",
       "      <td>13463-67-7</td>\n",
       "      <td>6</td>\n",
       "      <td>Titanium dioxide</td>\n",
       "      <td>06/17/2009</td>\n",
       "      <td>08/28/2013</td>\n",
       "      <td>02/01/2011</td>\n",
       "      <td>07/09/2009</td>\n",
       "      <td>07/09/2009</td>\n",
       "      <td>NaN</td>\n",
       "      <td>1</td>\n",
       "    </tr>\n",
       "    <tr>\n",
       "      <th>1</th>\n",
       "      <td>1</td>\n",
       "      <td>3</td>\n",
       "      <td>Glover's Medicated Shampoo</td>\n",
       "      <td>NaN</td>\n",
       "      <td>NaN</td>\n",
       "      <td>338</td>\n",
       "      <td>J. Strickland &amp; Co.</td>\n",
       "      <td>Glover's</td>\n",
       "      <td>18</td>\n",
       "      <td>Hair Care Products (non-coloring)</td>\n",
       "      <td>...</td>\n",
       "      <td>65996-92-1</td>\n",
       "      <td>4</td>\n",
       "      <td>Distillates (coal tar)</td>\n",
       "      <td>07/01/2009</td>\n",
       "      <td>07/01/2009</td>\n",
       "      <td>NaN</td>\n",
       "      <td>07/01/2009</td>\n",
       "      <td>07/01/2009</td>\n",
       "      <td>NaN</td>\n",
       "      <td>2</td>\n",
       "    </tr>\n",
       "    <tr>\n",
       "      <th>2</th>\n",
       "      <td>2</td>\n",
       "      <td>3</td>\n",
       "      <td>Glover's Medicated Shampoo</td>\n",
       "      <td>NaN</td>\n",
       "      <td>NaN</td>\n",
       "      <td>338</td>\n",
       "      <td>J. Strickland &amp; Co.</td>\n",
       "      <td>Glover's</td>\n",
       "      <td>18</td>\n",
       "      <td>Hair Care Products (non-coloring)</td>\n",
       "      <td>...</td>\n",
       "      <td>140-67-0</td>\n",
       "      <td>5</td>\n",
       "      <td>Estragole</td>\n",
       "      <td>07/01/2009</td>\n",
       "      <td>07/01/2009</td>\n",
       "      <td>NaN</td>\n",
       "      <td>07/02/2009</td>\n",
       "      <td>07/02/2009</td>\n",
       "      <td>NaN</td>\n",
       "      <td>2</td>\n",
       "    </tr>\n",
       "    <tr>\n",
       "      <th>3</th>\n",
       "      <td>3</td>\n",
       "      <td>4</td>\n",
       "      <td>PRECISION GLIMMER EYE LINER-ALL SHADES �</td>\n",
       "      <td>NaN</td>\n",
       "      <td>NaN</td>\n",
       "      <td>4</td>\n",
       "      <td>New Avon LLC</td>\n",
       "      <td>AVON</td>\n",
       "      <td>44</td>\n",
       "      <td>Makeup Products (non-permanent)</td>\n",
       "      <td>...</td>\n",
       "      <td>13463-67-7</td>\n",
       "      <td>7</td>\n",
       "      <td>Titanium dioxide</td>\n",
       "      <td>07/09/2009</td>\n",
       "      <td>08/28/2013</td>\n",
       "      <td>NaN</td>\n",
       "      <td>07/09/2009</td>\n",
       "      <td>07/09/2009</td>\n",
       "      <td>NaN</td>\n",
       "      <td>1</td>\n",
       "    </tr>\n",
       "    <tr>\n",
       "      <th>4</th>\n",
       "      <td>4</td>\n",
       "      <td>5</td>\n",
       "      <td>AVON BRILLIANT SHINE LIP GLOSS-ALL SHADES �</td>\n",
       "      <td>NaN</td>\n",
       "      <td>NaN</td>\n",
       "      <td>4</td>\n",
       "      <td>New Avon LLC</td>\n",
       "      <td>AVON</td>\n",
       "      <td>44</td>\n",
       "      <td>Makeup Products (non-permanent)</td>\n",
       "      <td>...</td>\n",
       "      <td>13463-67-7</td>\n",
       "      <td>8</td>\n",
       "      <td>Titanium dioxide</td>\n",
       "      <td>07/09/2009</td>\n",
       "      <td>08/28/2013</td>\n",
       "      <td>02/01/2011</td>\n",
       "      <td>07/09/2009</td>\n",
       "      <td>07/09/2009</td>\n",
       "      <td>NaN</td>\n",
       "      <td>1</td>\n",
       "    </tr>\n",
       "    <tr>\n",
       "      <th>...</th>\n",
       "      <td>...</td>\n",
       "      <td>...</td>\n",
       "      <td>...</td>\n",
       "      <td>...</td>\n",
       "      <td>...</td>\n",
       "      <td>...</td>\n",
       "      <td>...</td>\n",
       "      <td>...</td>\n",
       "      <td>...</td>\n",
       "      <td>...</td>\n",
       "      <td>...</td>\n",
       "      <td>...</td>\n",
       "      <td>...</td>\n",
       "      <td>...</td>\n",
       "      <td>...</td>\n",
       "      <td>...</td>\n",
       "      <td>...</td>\n",
       "      <td>...</td>\n",
       "      <td>...</td>\n",
       "      <td>...</td>\n",
       "      <td>...</td>\n",
       "    </tr>\n",
       "    <tr>\n",
       "      <th>114293</th>\n",
       "      <td>114293</td>\n",
       "      <td>41445</td>\n",
       "      <td>JILLSTUART Something Pure Blue Diamond Glaze L...</td>\n",
       "      <td>NaN</td>\n",
       "      <td>NaN</td>\n",
       "      <td>1031</td>\n",
       "      <td>KOS� America, Inc.</td>\n",
       "      <td>JILL STUART</td>\n",
       "      <td>44</td>\n",
       "      <td>Makeup Products (non-permanent)</td>\n",
       "      <td>...</td>\n",
       "      <td>13463-67-7</td>\n",
       "      <td>67901</td>\n",
       "      <td>Titanium dioxide</td>\n",
       "      <td>04/30/2020</td>\n",
       "      <td>04/30/2020</td>\n",
       "      <td>NaN</td>\n",
       "      <td>04/30/2020</td>\n",
       "      <td>04/30/2020</td>\n",
       "      <td>NaN</td>\n",
       "      <td>1</td>\n",
       "    </tr>\n",
       "    <tr>\n",
       "      <th>114294</th>\n",
       "      <td>114294</td>\n",
       "      <td>41446</td>\n",
       "      <td>JILLSTUART something pure blue my lips</td>\n",
       "      <td>NaN</td>\n",
       "      <td>NaN</td>\n",
       "      <td>1031</td>\n",
       "      <td>KOS� America, Inc.</td>\n",
       "      <td>JILL STUART</td>\n",
       "      <td>44</td>\n",
       "      <td>Makeup Products (non-permanent)</td>\n",
       "      <td>...</td>\n",
       "      <td>13463-67-7</td>\n",
       "      <td>67902</td>\n",
       "      <td>Titanium dioxide</td>\n",
       "      <td>04/30/2020</td>\n",
       "      <td>04/30/2020</td>\n",
       "      <td>NaN</td>\n",
       "      <td>04/30/2020</td>\n",
       "      <td>04/30/2020</td>\n",
       "      <td>NaN</td>\n",
       "      <td>1</td>\n",
       "    </tr>\n",
       "    <tr>\n",
       "      <th>114295</th>\n",
       "      <td>114295</td>\n",
       "      <td>41449</td>\n",
       "      <td>SPRING BLOSSOM VANILLA APPLE BODY WASH</td>\n",
       "      <td>NaN</td>\n",
       "      <td>NaN</td>\n",
       "      <td>1388</td>\n",
       "      <td>Cosmopharm Ltd.</td>\n",
       "      <td>Careline</td>\n",
       "      <td>6</td>\n",
       "      <td>Bath Products</td>\n",
       "      <td>...</td>\n",
       "      <td>NaN</td>\n",
       "      <td>67905</td>\n",
       "      <td>Cocamide DEA</td>\n",
       "      <td>04/30/2020</td>\n",
       "      <td>04/30/2020</td>\n",
       "      <td>NaN</td>\n",
       "      <td>04/30/2020</td>\n",
       "      <td>04/30/2020</td>\n",
       "      <td>NaN</td>\n",
       "      <td>1</td>\n",
       "    </tr>\n",
       "    <tr>\n",
       "      <th>114296</th>\n",
       "      <td>114296</td>\n",
       "      <td>41450</td>\n",
       "      <td>Wild Breeze Water Lilies Hand Soap</td>\n",
       "      <td>NaN</td>\n",
       "      <td>NaN</td>\n",
       "      <td>1388</td>\n",
       "      <td>Cosmopharm Ltd.</td>\n",
       "      <td>Careline</td>\n",
       "      <td>6</td>\n",
       "      <td>Bath Products</td>\n",
       "      <td>...</td>\n",
       "      <td>NaN</td>\n",
       "      <td>67906</td>\n",
       "      <td>Cocamide DEA</td>\n",
       "      <td>04/30/2020</td>\n",
       "      <td>04/30/2020</td>\n",
       "      <td>NaN</td>\n",
       "      <td>04/30/2020</td>\n",
       "      <td>04/30/2020</td>\n",
       "      <td>NaN</td>\n",
       "      <td>1</td>\n",
       "    </tr>\n",
       "    <tr>\n",
       "      <th>114297</th>\n",
       "      <td>114297</td>\n",
       "      <td>41451</td>\n",
       "      <td>BEVEL EXFOLIATING BAR SOAP</td>\n",
       "      <td>NaN</td>\n",
       "      <td>NaN</td>\n",
       "      <td>86</td>\n",
       "      <td>The Procter &amp; Gamble Company</td>\n",
       "      <td>Bevel</td>\n",
       "      <td>6</td>\n",
       "      <td>Bath Products</td>\n",
       "      <td>...</td>\n",
       "      <td>13463-67-7</td>\n",
       "      <td>67907</td>\n",
       "      <td>Titanium dioxide</td>\n",
       "      <td>05/07/2020</td>\n",
       "      <td>05/07/2020</td>\n",
       "      <td>NaN</td>\n",
       "      <td>05/07/2020</td>\n",
       "      <td>05/07/2020</td>\n",
       "      <td>NaN</td>\n",
       "      <td>1</td>\n",
       "    </tr>\n",
       "  </tbody>\n",
       "</table>\n",
       "<p>114298 rows × 23 columns</p>\n",
       "</div>"
      ],
      "text/plain": [
       "         index  CDPHId                                        ProductName  \\\n",
       "0            0       2   ULTRA COLOR RICH EXTRA PLUMP LIPSTICK-ALL SHADES   \n",
       "1            1       3                         Glover's Medicated Shampoo   \n",
       "2            2       3                         Glover's Medicated Shampoo   \n",
       "3            3       4           PRECISION GLIMMER EYE LINER-ALL SHADES �   \n",
       "4            4       5        AVON BRILLIANT SHINE LIP GLOSS-ALL SHADES �   \n",
       "...        ...     ...                                                ...   \n",
       "114293  114293   41445  JILLSTUART Something Pure Blue Diamond Glaze L...   \n",
       "114294  114294   41446             JILLSTUART something pure blue my lips   \n",
       "114295  114295   41449             SPRING BLOSSOM VANILLA APPLE BODY WASH   \n",
       "114296  114296   41450                 Wild Breeze Water Lilies Hand Soap   \n",
       "114297  114297   41451                         BEVEL EXFOLIATING BAR SOAP   \n",
       "\n",
       "        CSFId  CSF  CompanyId                   CompanyName    BrandName  \\\n",
       "0         NaN  NaN          4                  New Avon LLC         AVON   \n",
       "1         NaN  NaN        338           J. Strickland & Co.     Glover's   \n",
       "2         NaN  NaN        338           J. Strickland & Co.     Glover's   \n",
       "3         NaN  NaN          4                  New Avon LLC         AVON   \n",
       "4         NaN  NaN          4                  New Avon LLC         AVON   \n",
       "...       ...  ...        ...                           ...          ...   \n",
       "114293    NaN  NaN       1031            KOS� America, Inc.  JILL STUART   \n",
       "114294    NaN  NaN       1031            KOS� America, Inc.  JILL STUART   \n",
       "114295    NaN  NaN       1388               Cosmopharm Ltd.     Careline   \n",
       "114296    NaN  NaN       1388               Cosmopharm Ltd.     Careline   \n",
       "114297    NaN  NaN         86  The Procter & Gamble Company        Bevel   \n",
       "\n",
       "        PrimaryCategoryId                    PrimaryCategory  ...   CasNumber  \\\n",
       "0                      44    Makeup Products (non-permanent)  ...  13463-67-7   \n",
       "1                      18  Hair Care Products (non-coloring)  ...  65996-92-1   \n",
       "2                      18  Hair Care Products (non-coloring)  ...    140-67-0   \n",
       "3                      44    Makeup Products (non-permanent)  ...  13463-67-7   \n",
       "4                      44    Makeup Products (non-permanent)  ...  13463-67-7   \n",
       "...                   ...                                ...  ...         ...   \n",
       "114293                 44    Makeup Products (non-permanent)  ...  13463-67-7   \n",
       "114294                 44    Makeup Products (non-permanent)  ...  13463-67-7   \n",
       "114295                  6                      Bath Products  ...         NaN   \n",
       "114296                  6                      Bath Products  ...         NaN   \n",
       "114297                  6                      Bath Products  ...  13463-67-7   \n",
       "\n",
       "       ChemicalId            ChemicalName InitialDateReported  \\\n",
       "0               6        Titanium dioxide          06/17/2009   \n",
       "1               4  Distillates (coal tar)          07/01/2009   \n",
       "2               5               Estragole          07/01/2009   \n",
       "3               7        Titanium dioxide          07/09/2009   \n",
       "4               8        Titanium dioxide          07/09/2009   \n",
       "...           ...                     ...                 ...   \n",
       "114293      67901        Titanium dioxide          04/30/2020   \n",
       "114294      67902        Titanium dioxide          04/30/2020   \n",
       "114295      67905            Cocamide DEA          04/30/2020   \n",
       "114296      67906            Cocamide DEA          04/30/2020   \n",
       "114297      67907        Titanium dioxide          05/07/2020   \n",
       "\n",
       "        MostRecentDateReported DiscontinuedDate ChemicalCreatedAt  \\\n",
       "0                   08/28/2013       02/01/2011        07/09/2009   \n",
       "1                   07/01/2009              NaN        07/01/2009   \n",
       "2                   07/01/2009              NaN        07/02/2009   \n",
       "3                   08/28/2013              NaN        07/09/2009   \n",
       "4                   08/28/2013       02/01/2011        07/09/2009   \n",
       "...                        ...              ...               ...   \n",
       "114293              04/30/2020              NaN        04/30/2020   \n",
       "114294              04/30/2020              NaN        04/30/2020   \n",
       "114295              04/30/2020              NaN        04/30/2020   \n",
       "114296              04/30/2020              NaN        04/30/2020   \n",
       "114297              05/07/2020              NaN        05/07/2020   \n",
       "\n",
       "       ChemicalUpdatedAt ChemicalDateRemoved ChemicalCount  \n",
       "0             07/09/2009                 NaN             1  \n",
       "1             07/01/2009                 NaN             2  \n",
       "2             07/02/2009                 NaN             2  \n",
       "3             07/09/2009                 NaN             1  \n",
       "4             07/09/2009                 NaN             1  \n",
       "...                  ...                 ...           ...  \n",
       "114293        04/30/2020                 NaN             1  \n",
       "114294        04/30/2020                 NaN             1  \n",
       "114295        04/30/2020                 NaN             1  \n",
       "114296        04/30/2020                 NaN             1  \n",
       "114297        05/07/2020                 NaN             1  \n",
       "\n",
       "[114298 rows x 23 columns]"
      ]
     },
     "execution_count": 2,
     "metadata": {},
     "output_type": "execute_result"
    }
   ],
   "source": [
    "df = pd.read_csv(\"./dataset/chemicals-in-cosmetics-3.csv\")\n",
    "df"
   ]
  },
  {
   "cell_type": "markdown",
   "metadata": {},
   "source": [
    "**MỖI CỘT CÓ Ý NGHĨA GÌ**"
   ]
  },
  {
   "cell_type": "markdown",
   "metadata": {},
   "source": [
    "- **CDPHId**: The California Department of Public Health (CDPH) internal identification number for product. Note that the CDPHId may appear more than once if a product has more than one Color/Scent/Flavor, more than one Category, or more than one Chemical Name/CAS number reported. (float)\n",
    "- **ProductName**: The name of the product in which the chemical is used. (String)\n",
    "- **CSF**: The Cosmetic Safety Factor, a measure of the safety of a chemical used in cosmetics. (Float)\n",
    "- **CompanyName**: The name of the company that manufactures the product in which the chemical is used. (String)\n",
    "- **BrandName**: The name of the brand of the product in which the chemical is used. (String)\n",
    "- **PrimaryCategory**: The primary category of cosmetic in which the chemical is used. (String)\n",
    "- **SubCategory**: The subcategory of cosmetic in which the chemical is used. (String)\n",
    "- **CasNumber**: The CAS Number of the chemical. (String)\n",
    "- **ChemicalName**: The name of the chemical. (String)\n",
    "- **InitialDateReported**: The date the chemical was first reported. (Date)\n",
    "- **MostRecentDateReported**: The date the chemical was most recently reported. (Date)\n",
    "- **DiscontinuedDate**: The date the product in which the chemical is used was discontinued. (Date)\n",
    "- **ChemicalCreatedAt**: The date the chemical was created. (Date)\n",
    "- **ChemicalUpdatedAt**: The date the chemical was last updated. (Date)\n",
    "- **ChemicalDateRemoved**: The date the chemical was removed from the product. (Date)\n",
    "- **ChemicalCount**: The number of chemicals in the product. (Integer)"
   ]
  },
  {
   "cell_type": "markdown",
   "metadata": {},
   "source": [
    "#### Mỗi cột hiện đang có kiểu dữ liệu gì? Có cột nào có kiểu dữ liệu chưa phù hợp để có thể xử lý tiếp không?"
   ]
  },
  {
   "cell_type": "code",
   "execution_count": 3,
   "metadata": {},
   "outputs": [
    {
     "data": {
      "text/plain": [
       "index                       int64\n",
       "CDPHId                      int64\n",
       "ProductName                object\n",
       "CSFId                     float64\n",
       "CSF                        object\n",
       "CompanyId                   int64\n",
       "CompanyName                object\n",
       "BrandName                  object\n",
       "PrimaryCategoryId           int64\n",
       "PrimaryCategory            object\n",
       "SubCategoryId               int64\n",
       "SubCategory                object\n",
       "CasId                       int64\n",
       "CasNumber                  object\n",
       "ChemicalId                  int64\n",
       "ChemicalName               object\n",
       "InitialDateReported        object\n",
       "MostRecentDateReported     object\n",
       "DiscontinuedDate           object\n",
       "ChemicalCreatedAt          object\n",
       "ChemicalUpdatedAt          object\n",
       "ChemicalDateRemoved        object\n",
       "ChemicalCount               int64\n",
       "dtype: object"
      ]
     },
     "execution_count": 3,
     "metadata": {},
     "output_type": "execute_result"
    }
   ],
   "source": [
    "df.dtypes"
   ]
  },
  {
   "cell_type": "markdown",
   "metadata": {},
   "source": [
    "#### Chuyển các cột  **'InitialDateReported'** , **'MostRecentDateReported'** , **'DiscontinuedDate'** , **'ChemicalCreatedAt'** , **'ChemicalUpdatedAt'** , **'ChemicalDateRemoved'** về dạng datetime"
   ]
  },
  {
   "cell_type": "code",
   "execution_count": 4,
   "metadata": {},
   "outputs": [],
   "source": [
    "df[['InitialDateReported',\n",
    "    'MostRecentDateReported',   \n",
    "    'DiscontinuedDate', \n",
    "    'ChemicalCreatedAt',    \n",
    "    'ChemicalUpdatedAt',    \n",
    "    'ChemicalDateRemoved']] = pd.to_datetime(df[['InitialDateReported',\n",
    "                                                'MostRecentDateReported',   \n",
    "                                                'DiscontinuedDate', \n",
    "                                                'ChemicalCreatedAt',    \n",
    "                                                'ChemicalUpdatedAt',    \n",
    "                                                'ChemicalDateRemoved']].stack()).unstack()"
   ]
  },
  {
   "cell_type": "code",
   "execution_count": 5,
   "metadata": {},
   "outputs": [
    {
     "data": {
      "text/plain": [
       "InitialDateReported       datetime64[ns]\n",
       "MostRecentDateReported    datetime64[ns]\n",
       "DiscontinuedDate          datetime64[ns]\n",
       "ChemicalCreatedAt         datetime64[ns]\n",
       "ChemicalUpdatedAt         datetime64[ns]\n",
       "ChemicalDateRemoved       datetime64[ns]\n",
       "dtype: object"
      ]
     },
     "execution_count": 5,
     "metadata": {},
     "output_type": "execute_result"
    }
   ],
   "source": [
    "df[['InitialDateReported',\n",
    "    'MostRecentDateReported',   \n",
    "    'DiscontinuedDate', \n",
    "    'ChemicalCreatedAt',    \n",
    "    'ChemicalUpdatedAt',    \n",
    "    'ChemicalDateRemoved']].dtypes"
   ]
  },
  {
   "cell_type": "markdown",
   "metadata": {},
   "source": [
    "#### Tỉ lệ các giá trị thiếu với mỗi cột dạng numeric"
   ]
  },
  {
   "cell_type": "code",
   "execution_count": 6,
   "metadata": {},
   "outputs": [
    {
     "name": "stdout",
     "output_type": "stream",
     "text": [
      "Percentage of empty value in column CSFId: 0.2967331011916219\n",
      "Percentage of empty value in column CompanyId: 0.0\n",
      "Percentage of empty value in column PrimaryCategoryId: 0.0\n",
      "Percentage of empty value in column SubCategoryId: 0.0\n",
      "Percentage of empty value in column CasId: 0.0\n",
      "Percentage of empty value in column ChemicalId: 0.0\n",
      "Percentage of empty value in column ChemicalCount: 0.0\n"
     ]
    }
   ],
   "source": [
    "def nan_percentage(column):\n",
    "    print('Percentage of empty value in column ' + column + ':', df[column].isnull().sum() / len(df[column]))\n",
    "nan_percentage('CSFId')\n",
    "nan_percentage('CompanyId')\n",
    "nan_percentage('PrimaryCategoryId')\n",
    "nan_percentage('SubCategoryId')\n",
    "nan_percentage('CasId')\n",
    "nan_percentage('ChemicalId')\n",
    "nan_percentage('ChemicalCount')"
   ]
  },
  {
   "cell_type": "markdown",
   "metadata": {},
   "source": [
    "Rất may là các cột numeric đều có mục đích định danh cho các chất hóa học, nên việc xem xét min/max của các giá trị trong các cột này là không cần thiết :v"
   ]
  },
  {
   "attachments": {},
   "cell_type": "markdown",
   "metadata": {},
   "source": [
    "#### Phân bố giá trị các cột có kiểu dữ liệu categorical"
   ]
  },
  {
   "cell_type": "code",
   "execution_count": 7,
   "metadata": {},
   "outputs": [],
   "source": [
    "# tính số giá trị thiếu của cột s\n",
    "def missing_num(s):\n",
    "    return s.isnull().sum()\n",
    "\n",
    "# Tính số tỉ lệ phần trăm giá trị thiếu của cột s \n",
    "def missing_ratio(s):\n",
    "    return s.isnull().sum()/len(s)*100\n",
    "\n",
    "# Tính số giá trị khác nhau (không tính giá trị thiếu) của cột s\n",
    "def n_diff_vals(s):\n",
    "    return s.dropna().unique().size\n",
    "\n",
    "# Các giá trị khác nhau (không xét giá trị thiếu) của cột s\n",
    "def diff_vals(s):\n",
    "    return s.dropna().unique()\n",
    "\n",
    "# Tên các cột thuộc kiểu dữ liệu dạng phân loại (category)\n",
    "cate_index = ['ProductName', 'CSF', 'CompanyName', 'BrandName', 'PrimaryCategory',\\\n",
    "            'SubCategory', 'CasNumber', 'ChemicalName']\n",
    "\n",
    "cate_columns = ['missing_num','missing_ratio', 'n_diff_vals', 'diff_vals']\n",
    "\n",
    "cate_data = np.array([[\n",
    "                missing_num(df[i]),\n",
    "                missing_ratio(df[i]),\n",
    "                n_diff_vals(df[i]),\n",
    "                diff_vals(df[i]),\n",
    "            ] for i in cate_index], dtype = object)\n",
    "\n",
    "cate_col_profiles_df = pd.DataFrame(data=cate_data, columns=cate_columns, index=cate_index)"
   ]
  },
  {
   "cell_type": "code",
   "execution_count": 8,
   "metadata": {},
   "outputs": [
    {
     "data": {
      "text/html": [
       "<div>\n",
       "<style scoped>\n",
       "    .dataframe tbody tr th:only-of-type {\n",
       "        vertical-align: middle;\n",
       "    }\n",
       "\n",
       "    .dataframe tbody tr th {\n",
       "        vertical-align: top;\n",
       "    }\n",
       "\n",
       "    .dataframe thead th {\n",
       "        text-align: right;\n",
       "    }\n",
       "</style>\n",
       "<table border=\"1\" class=\"dataframe\">\n",
       "  <thead>\n",
       "    <tr style=\"text-align: right;\">\n",
       "      <th></th>\n",
       "      <th>missing_num</th>\n",
       "      <th>missing_ratio</th>\n",
       "      <th>n_diff_vals</th>\n",
       "      <th>diff_vals</th>\n",
       "    </tr>\n",
       "  </thead>\n",
       "  <tbody>\n",
       "    <tr>\n",
       "      <th>ProductName</th>\n",
       "      <td>0</td>\n",
       "      <td>0.0</td>\n",
       "      <td>33638</td>\n",
       "      <td>[ULTRA COLOR RICH EXTRA PLUMP LIPSTICK-ALL SHA...</td>\n",
       "    </tr>\n",
       "    <tr>\n",
       "      <th>CSF</th>\n",
       "      <td>34340</td>\n",
       "      <td>30.04427</td>\n",
       "      <td>34258</td>\n",
       "      <td>[5858-81-1, D&amp;C RED 7 CALCIUM LAKE, D&amp;C RED 28...</td>\n",
       "    </tr>\n",
       "    <tr>\n",
       "      <th>CompanyName</th>\n",
       "      <td>0</td>\n",
       "      <td>0.0</td>\n",
       "      <td>606</td>\n",
       "      <td>[New Avon LLC, J. Strickland &amp; Co., OPI PRODUC...</td>\n",
       "    </tr>\n",
       "    <tr>\n",
       "      <th>BrandName</th>\n",
       "      <td>216</td>\n",
       "      <td>0.18898</td>\n",
       "      <td>2711</td>\n",
       "      <td>[AVON, Glover's, OPI, ABSOLUTE, ABSOLUTE FX, G...</td>\n",
       "    </tr>\n",
       "    <tr>\n",
       "      <th>PrimaryCategory</th>\n",
       "      <td>0</td>\n",
       "      <td>0.0</td>\n",
       "      <td>13</td>\n",
       "      <td>[Makeup Products (non-permanent), Hair Care Pr...</td>\n",
       "    </tr>\n",
       "    <tr>\n",
       "      <th>SubCategory</th>\n",
       "      <td>0</td>\n",
       "      <td>0.0</td>\n",
       "      <td>89</td>\n",
       "      <td>[Lip Color - Lipsticks, Liners, and Pencils, H...</td>\n",
       "    </tr>\n",
       "    <tr>\n",
       "      <th>CasNumber</th>\n",
       "      <td>6396</td>\n",
       "      <td>5.595898</td>\n",
       "      <td>125</td>\n",
       "      <td>[13463-67-7, 65996-92-1, 140-67-0, 68603-42-9,...</td>\n",
       "    </tr>\n",
       "    <tr>\n",
       "      <th>ChemicalName</th>\n",
       "      <td>0</td>\n",
       "      <td>0.0</td>\n",
       "      <td>123</td>\n",
       "      <td>[Titanium dioxide, Distillates (coal tar), Est...</td>\n",
       "    </tr>\n",
       "  </tbody>\n",
       "</table>\n",
       "</div>"
      ],
      "text/plain": [
       "                missing_num missing_ratio n_diff_vals  \\\n",
       "ProductName               0           0.0       33638   \n",
       "CSF                   34340      30.04427       34258   \n",
       "CompanyName               0           0.0         606   \n",
       "BrandName               216       0.18898        2711   \n",
       "PrimaryCategory           0           0.0          13   \n",
       "SubCategory               0           0.0          89   \n",
       "CasNumber              6396      5.595898         125   \n",
       "ChemicalName              0           0.0         123   \n",
       "\n",
       "                                                         diff_vals  \n",
       "ProductName      [ULTRA COLOR RICH EXTRA PLUMP LIPSTICK-ALL SHA...  \n",
       "CSF              [5858-81-1, D&C RED 7 CALCIUM LAKE, D&C RED 28...  \n",
       "CompanyName      [New Avon LLC, J. Strickland & Co., OPI PRODUC...  \n",
       "BrandName        [AVON, Glover's, OPI, ABSOLUTE, ABSOLUTE FX, G...  \n",
       "PrimaryCategory  [Makeup Products (non-permanent), Hair Care Pr...  \n",
       "SubCategory      [Lip Color - Lipsticks, Liners, and Pencils, H...  \n",
       "CasNumber        [13463-67-7, 65996-92-1, 140-67-0, 68603-42-9,...  \n",
       "ChemicalName     [Titanium dioxide, Distillates (coal tar), Est...  "
      ]
     },
     "execution_count": 8,
     "metadata": {},
     "output_type": "execute_result"
    }
   ],
   "source": [
    "cate_col_profiles_df"
   ]
  },
  {
   "cell_type": "markdown",
   "metadata": {},
   "source": [
    "<br>Số lượng giá trị thiếu (missing_num)\n",
    "- Có 34340 dòng bị mất giá trị ở cột 'CSF'\n",
    "- Có 216 dòng bị mất giá trị ở cột 'BrandName'\n",
    "- Có 6396 dòng bị mất giá trị ở cột 'CasNumber'\n",
    "\n",
    "<br>Tỉ lệ phần trăm giá trị thiếu (missing_ratio)\n",
    "- Có 30% dòng bị mất giá trị ở cột 'CSF'\n",
    "- Có 0.2% dòng bị mất giá trị ở cột 'BrandName'\n",
    "- Có 5.6% dòng bị mất giá trị ở cột 'CasNumber'\n"
   ]
  },
  {
   "cell_type": "markdown",
   "metadata": {},
   "source": [
    "### Phần 2. Trả lời câu hỏi"
   ]
  },
  {
   "cell_type": "markdown",
   "metadata": {},
   "source": [
    "#### Câu 1: Top 10 các loại hoá chất được sử dụng nhiều nhất "
   ]
  },
  {
   "cell_type": "code",
   "execution_count": 9,
   "metadata": {},
   "outputs": [
    {
     "data": {
      "text/plain": [
       "Titanium dioxide                                                                                       93252\n",
       "Silica, crystalline (airborne particles of respirable size)                                             2742\n",
       "Retinol/retinyl esters, when in daily dosages in excess of 10,000 IU, or 3,000 retinol equivalents.     2154\n",
       "Mica                                                                                                    1911\n",
       "Butylated hydroxyanisole                                                                                1888\n",
       "                                                                                                       ...  \n",
       "Acetylsalicylic acid                                                                                       1\n",
       "2-Propyleneacrolein                                                                                        1\n",
       "Spironolactone                                                                                             1\n",
       "Extract of coffee bean                                                                                     1\n",
       "N-Nitrosodiethanolamine                                                                                    1\n",
       "Name: ChemicalName, Length: 123, dtype: int64"
      ]
     },
     "execution_count": 9,
     "metadata": {},
     "output_type": "execute_result"
    }
   ],
   "source": [
    "df['ChemicalName'].value_counts()"
   ]
  },
  {
   "cell_type": "code",
   "execution_count": 10,
   "metadata": {},
   "outputs": [
    {
     "data": {
      "text/html": [
       "<div>\n",
       "<style scoped>\n",
       "    .dataframe tbody tr th:only-of-type {\n",
       "        vertical-align: middle;\n",
       "    }\n",
       "\n",
       "    .dataframe tbody tr th {\n",
       "        vertical-align: top;\n",
       "    }\n",
       "\n",
       "    .dataframe thead th {\n",
       "        text-align: right;\n",
       "    }\n",
       "</style>\n",
       "<table border=\"1\" class=\"dataframe\">\n",
       "  <thead>\n",
       "    <tr style=\"text-align: right;\">\n",
       "      <th></th>\n",
       "      <th>counts</th>\n",
       "    </tr>\n",
       "  </thead>\n",
       "  <tbody>\n",
       "    <tr>\n",
       "      <th>Titanium dioxide</th>\n",
       "      <td>93252</td>\n",
       "    </tr>\n",
       "    <tr>\n",
       "      <th>Silica, crystalline (airborne particles of respirable size)</th>\n",
       "      <td>2742</td>\n",
       "    </tr>\n",
       "    <tr>\n",
       "      <th>Retinol/retinyl esters, when in daily dosages in excess of 10,000 IU, or 3,000 retinol equivalents.</th>\n",
       "      <td>2154</td>\n",
       "    </tr>\n",
       "    <tr>\n",
       "      <th>Mica</th>\n",
       "      <td>1911</td>\n",
       "    </tr>\n",
       "    <tr>\n",
       "      <th>Butylated hydroxyanisole</th>\n",
       "      <td>1888</td>\n",
       "    </tr>\n",
       "    <tr>\n",
       "      <th>Carbon black</th>\n",
       "      <td>1753</td>\n",
       "    </tr>\n",
       "    <tr>\n",
       "      <th>Talc</th>\n",
       "      <td>1534</td>\n",
       "    </tr>\n",
       "    <tr>\n",
       "      <th>Cocamide diethanolamine</th>\n",
       "      <td>1397</td>\n",
       "    </tr>\n",
       "    <tr>\n",
       "      <th>Retinyl palmitate</th>\n",
       "      <td>1181</td>\n",
       "    </tr>\n",
       "    <tr>\n",
       "      <th>Vitamin A palmitate</th>\n",
       "      <td>971</td>\n",
       "    </tr>\n",
       "  </tbody>\n",
       "</table>\n",
       "</div>"
      ],
      "text/plain": [
       "                                                    counts\n",
       "Titanium dioxide                                     93252\n",
       "Silica, crystalline (airborne particles of resp...    2742\n",
       "Retinol/retinyl esters, when in daily dosages i...    2154\n",
       "Mica                                                  1911\n",
       "Butylated hydroxyanisole                              1888\n",
       "Carbon black                                          1753\n",
       "Talc                                                  1534\n",
       "Cocamide diethanolamine                               1397\n",
       "Retinyl palmitate                                     1181\n",
       "Vitamin A palmitate                                    971"
      ]
     },
     "execution_count": 10,
     "metadata": {},
     "output_type": "execute_result"
    }
   ],
   "source": [
    "top10_chems = df['ChemicalName'].value_counts().to_frame('counts').head(10)\n",
    "top10_chems"
   ]
  },
  {
   "cell_type": "code",
   "execution_count": 11,
   "metadata": {},
   "outputs": [
    {
     "data": {
      "text/plain": [
       "<AxesSubplot:xlabel='Số lượng sử dụng', ylabel='Loại hoá chất'>"
      ]
     },
     "execution_count": 11,
     "metadata": {},
     "output_type": "execute_result"
    },
    {
     "data": {
      "image/png": "[encoded data removed]",
      "text/plain": [
       "<Figure size 640x480 with 1 Axes>"
      ]
     },
     "metadata": {},
     "output_type": "display_data"
    }
   ],
   "source": [
    "top10_chems.plot.barh(ylabel='Loại hoá chất',xlabel='Số lượng sử dụng')"
   ]
  },
  {
   "cell_type": "markdown",
   "metadata": {},
   "source": [
    "- Có thể thấy Titanium dioxide được sử dụng rất nhiều, có thể là hầu hết trong các loại mỹ phẩm hiện nay."
   ]
  },
  {
   "attachments": {},
   "cell_type": "markdown",
   "metadata": {},
   "source": [
    "<h4> [Tuấn] Câu 2: Top 3 những hóa chất đã được loại bỏ nhiều nhất"
   ]
  },
  {
   "attachments": {},
   "cell_type": "markdown",
   "metadata": {},
   "source": [
    "Những hóa chất bị loại bỏ có thể do một vài nguyên nhân như có nhiều báo cáo không tốt cho sức khỏe con người hoặc các thành phần đó không tốt cho môi trường, vv.. Những hóa chất như vậy cũng đáng để ta quan tâm."
   ]
  },
  {
   "cell_type": "code",
   "execution_count": 164,
   "metadata": {},
   "outputs": [
    {
     "data": {
      "text/html": [
       "<div>\n",
       "<style scoped>\n",
       "    .dataframe tbody tr th:only-of-type {\n",
       "        vertical-align: middle;\n",
       "    }\n",
       "\n",
       "    .dataframe tbody tr th {\n",
       "        vertical-align: top;\n",
       "    }\n",
       "\n",
       "    .dataframe thead th {\n",
       "        text-align: right;\n",
       "    }\n",
       "</style>\n",
       "<table border=\"1\" class=\"dataframe\">\n",
       "  <thead>\n",
       "    <tr style=\"text-align: right;\">\n",
       "      <th></th>\n",
       "      <th>counts</th>\n",
       "    </tr>\n",
       "  </thead>\n",
       "  <tbody>\n",
       "    <tr>\n",
       "      <th>Titanium dioxide</th>\n",
       "      <td>1626</td>\n",
       "    </tr>\n",
       "    <tr>\n",
       "      <th>Cocamide diethanolamine</th>\n",
       "      <td>304</td>\n",
       "    </tr>\n",
       "    <tr>\n",
       "      <th>Silica, crystalline (airborne particles of respirable size)</th>\n",
       "      <td>135</td>\n",
       "    </tr>\n",
       "  </tbody>\n",
       "</table>\n",
       "</div>"
      ],
      "text/plain": [
       "                                                    counts\n",
       "Titanium dioxide                                      1626\n",
       "Cocamide diethanolamine                                304\n",
       "Silica, crystalline (airborne particles of resp...     135"
      ]
     },
     "metadata": {},
     "output_type": "display_data"
    }
   ],
   "source": [
    "RemovedChemical_df = df.copy().dropna(subset=['ChemicalDateRemoved'])\n",
    "RemovedChemical_df = RemovedChemical_df[['ChemicalName', 'ChemicalDateRemoved']]\n",
    "top_3_removed = RemovedChemical_df.ChemicalName.value_counts(ascending=False).head(3).to_frame('counts')\n",
    "display(top_3_removed)"
   ]
  },
  {
   "attachments": {},
   "cell_type": "markdown",
   "metadata": {},
   "source": [
    "Titanium dioxit là một chất phổ biến trong mỹ phẩm như kem chống nắng, kem làm trắng, ... trong các sản phẩm khác như kem đánh răng, màu thực phẩm. Titanium có số lượng sản phẩm loại bỏ ra nhiều nhất vì độ phổ biến cao và nhiều nghiên cứu chỉ ra Titanium dioxit (ở dạng nano) có khả năng tích tụ và gây ra nhiều loại bệnh, trong đó có ung thư.\n",
    "<br><br>\n",
    "Cocamide diethanolamine hay Cocamide DEA là thành phần tăng cường khả năng tạo bọt có trong các sản phẩm sữa rửa mặt, dầu gội đầu hay nước rửa tay. Tuy nhiên Cocamide DEA có thể tác dụng với các chất khác tạo ra các chất có hại được gọi là nitrosamine. Cocamide DEA xếp mức 7 trên thang 10 của EWG (trong đó 1 là thấp nhất, 10 là cao nhất về mức độ nguy hiểm)\n",
    "<br><br>\n",
    "Silica được sử dụng trong các sản phẩm dưỡng ẩm, kem chống nắng, sửa rửa mặt, vv.. tuy chúng được chứng minh là không gây hại cho sức khỏe nhưng hóa chất này lại gây ô nhiễm môi trường do chúng phải mất 400-500 năm để phân hủy và sự quan tâm đến môi trường của người dùng ngày càng tăng. Vì vậy nhiều công ty đã giảm hoặc ngừng sử dụng hóa chất này trong các sản phẩm của mình."
   ]
  }
 ],
 "metadata": {
  "kernelspec": {
   "display_name": "LT4KHDL",
   "language": "python",
   "name": "python3"
  },
  "language_info": {
   "codemirror_mode": {
    "name": "ipython",
    "version": 3
   },
   "file_extension": ".py",
   "mimetype": "text/x-python",
   "name": "python",
   "nbconvert_exporter": "python",
   "pygments_lexer": "ipython3",
   "version": "3.10.8"
  },
  "orig_nbformat": 4,
  "vscode": {
   "interpreter": {
    "hash": "60c50537cc89ff50c69df229e33558d3074692c39fbaa0f1ec6adaa537fb271d"
   }
  }
 },
 "nbformat": 4,
 "nbformat_minor": 2
}
