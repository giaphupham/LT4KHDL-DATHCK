{
 "cells": [
  {
   "cell_type": "markdown",
   "metadata": {},
   "source": [
    "ĐỒ ÁN THỰC HÀNH CUỐI KÌ"
   ]
  },
  {
   "cell_type": "markdown",
   "metadata": {},
   "source": [
    "Data about Chemicals in Cosmetics"
   ]
  },
  {
   "cell_type": "markdown",
   "metadata": {},
   "source": [
    "Phần của Phú"
   ]
  },
  {
   "cell_type": "code",
   "execution_count": 1,
   "metadata": {},
   "outputs": [],
   "source": [
    "import pandas as pd\n",
    "import matplotlib.pyplot as plt\n",
    "import numpy as np\n"
   ]
  },
  {
   "cell_type": "markdown",
   "metadata": {},
   "source": [
    "Dataset"
   ]
  },
  {
   "cell_type": "code",
   "execution_count": 2,
   "metadata": {},
   "outputs": [
    {
     "data": {
      "text/html": [
       "<div>\n",
       "<style scoped>\n",
       "    .dataframe tbody tr th:only-of-type {\n",
       "        vertical-align: middle;\n",
       "    }\n",
       "\n",
       "    .dataframe tbody tr th {\n",
       "        vertical-align: top;\n",
       "    }\n",
       "\n",
       "    .dataframe thead th {\n",
       "        text-align: right;\n",
       "    }\n",
       "</style>\n",
       "<table border=\"1\" class=\"dataframe\">\n",
       "  <thead>\n",
       "    <tr style=\"text-align: right;\">\n",
       "      <th></th>\n",
       "      <th>index</th>\n",
       "      <th>CDPHId</th>\n",
       "      <th>ProductName</th>\n",
       "      <th>CSFId</th>\n",
       "      <th>CSF</th>\n",
       "      <th>CompanyId</th>\n",
       "      <th>CompanyName</th>\n",
       "      <th>BrandName</th>\n",
       "      <th>PrimaryCategoryId</th>\n",
       "      <th>PrimaryCategory</th>\n",
       "      <th>...</th>\n",
       "      <th>CasNumber</th>\n",
       "      <th>ChemicalId</th>\n",
       "      <th>ChemicalName</th>\n",
       "      <th>InitialDateReported</th>\n",
       "      <th>MostRecentDateReported</th>\n",
       "      <th>DiscontinuedDate</th>\n",
       "      <th>ChemicalCreatedAt</th>\n",
       "      <th>ChemicalUpdatedAt</th>\n",
       "      <th>ChemicalDateRemoved</th>\n",
       "      <th>ChemicalCount</th>\n",
       "    </tr>\n",
       "  </thead>\n",
       "  <tbody>\n",
       "    <tr>\n",
       "      <th>0</th>\n",
       "      <td>0</td>\n",
       "      <td>2</td>\n",
       "      <td>ULTRA COLOR RICH EXTRA PLUMP LIPSTICK-ALL SHADES</td>\n",
       "      <td>NaN</td>\n",
       "      <td>NaN</td>\n",
       "      <td>4</td>\n",
       "      <td>New Avon LLC</td>\n",
       "      <td>AVON</td>\n",
       "      <td>44</td>\n",
       "      <td>Makeup Products (non-permanent)</td>\n",
       "      <td>...</td>\n",
       "      <td>13463-67-7</td>\n",
       "      <td>6</td>\n",
       "      <td>Titanium dioxide</td>\n",
       "      <td>06/17/2009</td>\n",
       "      <td>08/28/2013</td>\n",
       "      <td>02/01/2011</td>\n",
       "      <td>07/09/2009</td>\n",
       "      <td>07/09/2009</td>\n",
       "      <td>NaN</td>\n",
       "      <td>1</td>\n",
       "    </tr>\n",
       "    <tr>\n",
       "      <th>1</th>\n",
       "      <td>1</td>\n",
       "      <td>3</td>\n",
       "      <td>Glover's Medicated Shampoo</td>\n",
       "      <td>NaN</td>\n",
       "      <td>NaN</td>\n",
       "      <td>338</td>\n",
       "      <td>J. Strickland &amp; Co.</td>\n",
       "      <td>Glover's</td>\n",
       "      <td>18</td>\n",
       "      <td>Hair Care Products (non-coloring)</td>\n",
       "      <td>...</td>\n",
       "      <td>65996-92-1</td>\n",
       "      <td>4</td>\n",
       "      <td>Distillates (coal tar)</td>\n",
       "      <td>07/01/2009</td>\n",
       "      <td>07/01/2009</td>\n",
       "      <td>NaN</td>\n",
       "      <td>07/01/2009</td>\n",
       "      <td>07/01/2009</td>\n",
       "      <td>NaN</td>\n",
       "      <td>2</td>\n",
       "    </tr>\n",
       "    <tr>\n",
       "      <th>2</th>\n",
       "      <td>2</td>\n",
       "      <td>3</td>\n",
       "      <td>Glover's Medicated Shampoo</td>\n",
       "      <td>NaN</td>\n",
       "      <td>NaN</td>\n",
       "      <td>338</td>\n",
       "      <td>J. Strickland &amp; Co.</td>\n",
       "      <td>Glover's</td>\n",
       "      <td>18</td>\n",
       "      <td>Hair Care Products (non-coloring)</td>\n",
       "      <td>...</td>\n",
       "      <td>140-67-0</td>\n",
       "      <td>5</td>\n",
       "      <td>Estragole</td>\n",
       "      <td>07/01/2009</td>\n",
       "      <td>07/01/2009</td>\n",
       "      <td>NaN</td>\n",
       "      <td>07/02/2009</td>\n",
       "      <td>07/02/2009</td>\n",
       "      <td>NaN</td>\n",
       "      <td>2</td>\n",
       "    </tr>\n",
       "    <tr>\n",
       "      <th>3</th>\n",
       "      <td>3</td>\n",
       "      <td>4</td>\n",
       "      <td>PRECISION GLIMMER EYE LINER-ALL SHADES �</td>\n",
       "      <td>NaN</td>\n",
       "      <td>NaN</td>\n",
       "      <td>4</td>\n",
       "      <td>New Avon LLC</td>\n",
       "      <td>AVON</td>\n",
       "      <td>44</td>\n",
       "      <td>Makeup Products (non-permanent)</td>\n",
       "      <td>...</td>\n",
       "      <td>13463-67-7</td>\n",
       "      <td>7</td>\n",
       "      <td>Titanium dioxide</td>\n",
       "      <td>07/09/2009</td>\n",
       "      <td>08/28/2013</td>\n",
       "      <td>NaN</td>\n",
       "      <td>07/09/2009</td>\n",
       "      <td>07/09/2009</td>\n",
       "      <td>NaN</td>\n",
       "      <td>1</td>\n",
       "    </tr>\n",
       "    <tr>\n",
       "      <th>4</th>\n",
       "      <td>4</td>\n",
       "      <td>5</td>\n",
       "      <td>AVON BRILLIANT SHINE LIP GLOSS-ALL SHADES �</td>\n",
       "      <td>NaN</td>\n",
       "      <td>NaN</td>\n",
       "      <td>4</td>\n",
       "      <td>New Avon LLC</td>\n",
       "      <td>AVON</td>\n",
       "      <td>44</td>\n",
       "      <td>Makeup Products (non-permanent)</td>\n",
       "      <td>...</td>\n",
       "      <td>13463-67-7</td>\n",
       "      <td>8</td>\n",
       "      <td>Titanium dioxide</td>\n",
       "      <td>07/09/2009</td>\n",
       "      <td>08/28/2013</td>\n",
       "      <td>02/01/2011</td>\n",
       "      <td>07/09/2009</td>\n",
       "      <td>07/09/2009</td>\n",
       "      <td>NaN</td>\n",
       "      <td>1</td>\n",
       "    </tr>\n",
       "  </tbody>\n",
       "</table>\n",
       "<p>5 rows × 23 columns</p>\n",
       "</div>"
      ],
      "text/plain": [
       "   index  CDPHId                                       ProductName  CSFId  \\\n",
       "0      0       2  ULTRA COLOR RICH EXTRA PLUMP LIPSTICK-ALL SHADES    NaN   \n",
       "1      1       3                        Glover's Medicated Shampoo    NaN   \n",
       "2      2       3                        Glover's Medicated Shampoo    NaN   \n",
       "3      3       4          PRECISION GLIMMER EYE LINER-ALL SHADES �    NaN   \n",
       "4      4       5       AVON BRILLIANT SHINE LIP GLOSS-ALL SHADES �    NaN   \n",
       "\n",
       "   CSF  CompanyId          CompanyName BrandName  PrimaryCategoryId  \\\n",
       "0  NaN          4         New Avon LLC      AVON                 44   \n",
       "1  NaN        338  J. Strickland & Co.  Glover's                 18   \n",
       "2  NaN        338  J. Strickland & Co.  Glover's                 18   \n",
       "3  NaN          4         New Avon LLC      AVON                 44   \n",
       "4  NaN          4         New Avon LLC      AVON                 44   \n",
       "\n",
       "                     PrimaryCategory  ...   CasNumber ChemicalId  \\\n",
       "0    Makeup Products (non-permanent)  ...  13463-67-7          6   \n",
       "1  Hair Care Products (non-coloring)  ...  65996-92-1          4   \n",
       "2  Hair Care Products (non-coloring)  ...    140-67-0          5   \n",
       "3    Makeup Products (non-permanent)  ...  13463-67-7          7   \n",
       "4    Makeup Products (non-permanent)  ...  13463-67-7          8   \n",
       "\n",
       "             ChemicalName InitialDateReported  MostRecentDateReported  \\\n",
       "0        Titanium dioxide          06/17/2009              08/28/2013   \n",
       "1  Distillates (coal tar)          07/01/2009              07/01/2009   \n",
       "2               Estragole          07/01/2009              07/01/2009   \n",
       "3        Titanium dioxide          07/09/2009              08/28/2013   \n",
       "4        Titanium dioxide          07/09/2009              08/28/2013   \n",
       "\n",
       "  DiscontinuedDate ChemicalCreatedAt ChemicalUpdatedAt ChemicalDateRemoved  \\\n",
       "0       02/01/2011        07/09/2009        07/09/2009                 NaN   \n",
       "1              NaN        07/01/2009        07/01/2009                 NaN   \n",
       "2              NaN        07/02/2009        07/02/2009                 NaN   \n",
       "3              NaN        07/09/2009        07/09/2009                 NaN   \n",
       "4       02/01/2011        07/09/2009        07/09/2009                 NaN   \n",
       "\n",
       "  ChemicalCount  \n",
       "0             1  \n",
       "1             2  \n",
       "2             2  \n",
       "3             1  \n",
       "4             1  \n",
       "\n",
       "[5 rows x 23 columns]"
      ]
     },
     "execution_count": 2,
     "metadata": {},
     "output_type": "execute_result"
    }
   ],
   "source": [
    "df = pd.read_csv(\"chemicals-in-cosmetics-3.csv\")\n",
    "df.head()"
   ]
  },
  {
   "cell_type": "code",
   "execution_count": 3,
   "metadata": {},
   "outputs": [
    {
     "data": {
      "text/plain": [
       "(114298, 23)"
      ]
     },
     "execution_count": 3,
     "metadata": {},
     "output_type": "execute_result"
    }
   ],
   "source": [
    "df.shape"
   ]
  },
  {
   "cell_type": "markdown",
   "metadata": {},
   "source": [
    "MỖI CỘT CÓ Ý NGHĨA GÌ"
   ]
  },
  {
   "cell_type": "markdown",
   "metadata": {},
   "source": [
    "- **ProductName**: The name of the product in which the chemical is used. (String)\n",
    "- **CSF**: The Cosmetic Safety Factor, a measure of the safety of a chemical used in cosmetics. (Float)\n",
    "- **CompanyName**: The name of the company that manufactures the product in which the chemical is used. (String)\n",
    "- **BrandName**: The name of the brand of the product in which the chemical is used. (String)\n",
    "- **PrimaryCategory**: The primary category of cosmetic in which the chemical is used. (String)\n",
    "- **SubCategory**: The subcategory of cosmetic in which the chemical is used. (String)\n",
    "- **CasNumber**: The CAS Number of the chemical. (String)\n",
    "- **ChemicalName**: The name of the chemical. (String)\n",
    "- **InitialDateReported**: The date the chemical was first reported. (Date)\n",
    "- **MostRecentDateReported**: The date the chemical was most recently reported. (Date)\n",
    "- **DiscontinuedDate**: The date the product in which the chemical is used was discontinued. (Date)\n",
    "- **ChemicalCreatedAt**: The date the chemical was created. (Date)\n",
    "- **ChemicalUpdatedAt**: The date the chemical was last updated. (Date)\n",
    "- **ChemicalDateRemoved**: The date the chemical was removed from the product. (Date)\n",
    "- **ChemicalCount**: The number of chemicals in the product. (Integer)"
   ]
  },
  {
   "cell_type": "markdown",
   "metadata": {},
   "source": [
    "### Mỗi cột hiện đang có kiểu dữ liệu gì? Có cột nào có kiểu dữ liệu chưa phù hợp để có thể xử lý tiếp không?"
   ]
  },
  {
   "cell_type": "code",
   "execution_count": 4,
   "metadata": {},
   "outputs": [
    {
     "data": {
      "text/plain": [
       "index                       int64\n",
       "CDPHId                      int64\n",
       "ProductName                object\n",
       "CSFId                     float64\n",
       "CSF                        object\n",
       "CompanyId                   int64\n",
       "CompanyName                object\n",
       "BrandName                  object\n",
       "PrimaryCategoryId           int64\n",
       "PrimaryCategory            object\n",
       "SubCategoryId               int64\n",
       "SubCategory                object\n",
       "CasId                       int64\n",
       "CasNumber                  object\n",
       "ChemicalId                  int64\n",
       "ChemicalName               object\n",
       "InitialDateReported        object\n",
       "MostRecentDateReported     object\n",
       "DiscontinuedDate           object\n",
       "ChemicalCreatedAt          object\n",
       "ChemicalUpdatedAt          object\n",
       "ChemicalDateRemoved        object\n",
       "ChemicalCount               int64\n",
       "dtype: object"
      ]
     },
     "execution_count": 4,
     "metadata": {},
     "output_type": "execute_result"
    }
   ],
   "source": [
    "df.dtypes"
   ]
  },
  {
   "cell_type": "markdown",
   "metadata": {},
   "source": [
    "Chuyển các cột có kiểu dữ liệu là object sang kiểu dữ liệu đúng"
   ]
  },
  {
   "cell_type": "code",
   "execution_count": 5,
   "metadata": {},
   "outputs": [],
   "source": [
    "def open_object_dtype(s):\n",
    "    dtypes = set()\n",
    "    # YOUR CODE HERE\n",
    "    for i in df[s].items():\n",
    "        dtypes.add(type(i[1]))\n",
    "    return dtypes"
   ]
  },
  {
   "cell_type": "code",
   "execution_count": 11,
   "metadata": {},
   "outputs": [
    {
     "name": "stdout",
     "output_type": "stream",
     "text": [
      "{<class 'str'>}\n"
     ]
    },
    {
     "data": {
      "text/plain": [
       "{float, str}"
      ]
     },
     "execution_count": 11,
     "metadata": {},
     "output_type": "execute_result"
    }
   ],
   "source": [
    "open_object_dtype(\"ProductName\")\n",
    "open_object_dtype(\"CSF\")\n",
    "open_object_dtype(\"CompanyName\")\n",
    "open_object_dtype(\"BrandName\")\n",
    "open_object_dtype(\"PrimaryCategory\")\n",
    "open_object_dtype(\"SubCategory\")\n",
    "open_object_dtype(\"CasNumber\")\n",
    "open_object_dtype(\"ChemicalName\")\n",
    "open_object_dtype(\"InitialDateReported\")\n",
    "open_object_dtype(\"MostRecentDateReported\")\n",
    "open_object_dtype(\"DiscontinuedDate\")\n",
    "open_object_dtype(\"ChemicalCreatedAt\")\n",
    "open_object_dtype(\"ChemicalUpdatedAt\")\n",
    "open_object_dtype(\"ChemicalDateRemoved\")"
   ]
  },
  {
   "cell_type": "code",
   "execution_count": null,
   "metadata": {},
   "outputs": [],
   "source": []
  }
 ],
 "metadata": {
  "interpreter": {
   "hash": "1d8232b9af5d1daf8c97578b89f9fdd7f2de4846e69e8e559ac28e7de70f09c6"
  },
  "kernelspec": {
   "display_name": "Python 3.10.3 64-bit",
   "language": "python",
   "name": "python3"
  },
  "language_info": {
   "codemirror_mode": {
    "name": "ipython",
    "version": 3
   },
   "file_extension": ".py",
   "mimetype": "text/x-python",
   "name": "python",
   "nbconvert_exporter": "python",
   "pygments_lexer": "ipython3",
   "version": "3.10.3"
  },
  "orig_nbformat": 4
 },
 "nbformat": 4,
 "nbformat_minor": 2
}
